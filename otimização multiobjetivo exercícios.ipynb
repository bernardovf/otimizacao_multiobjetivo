{
 "cells": [
  {
   "cell_type": "markdown",
   "metadata": {},
   "source": [
    "# Introdução"
   ]
  },
  {
   "cell_type": "raw",
   "metadata": {},
   "source": [
    "Importação das bibiliotecas necessárias"
   ]
  },
  {
   "cell_type": "code",
   "execution_count": 21,
   "metadata": {},
   "outputs": [],
   "source": [
    "import pandas as pd\n",
    "from pulp import *\n",
    "import numpy as np\n",
    "import math\n",
    "import random\n",
    "import time\n",
    "import csv\n",
    "import matplotlib.pyplot as plt\n",
    "\n"
   ]
  },
  {
   "cell_type": "raw",
   "metadata": {},
   "source": [
    "Cálculo da distância euclidiana baseada na latitude e longitude das cidades"
   ]
  },
  {
   "cell_type": "code",
   "execution_count": 22,
   "metadata": {},
   "outputs": [],
   "source": [
    "def distL2(loc,city1,city2):\n",
    "    x1, y1 = loc['Latitude'][city1], loc['Longitude'][city1]\n",
    "    x2, y2 = loc['Latitude'][city2], loc['Longitude'][city2]\n",
    "    xdiff = x2 - x1\n",
    "    ydiff = y2 - y1\n",
    "    return math.sqrt(xdiff*xdiff + ydiff*ydiff)"
   ]
  },
  {
   "cell_type": "raw",
   "metadata": {},
   "source": [
    "Leitura do arquivo \"points.csv\", que contém as seguintes colunas:\n",
    "    - Ponto\n",
    "    - Latitude\n",
    "    - Longitude\n",
    "    - Demanda\n",
    "Armazenaremos a demanda de cada ponto e a distância entre dois pontos em uma lista e dicionários, respectivamente."
   ]
  },
  {
   "cell_type": "code",
   "execution_count": 10,
   "metadata": {},
   "outputs": [],
   "source": [
    "loc1 = pd.read_csv(\"Desktop/points2.csv\")\n",
    "LOCATIONS = loc1[\"Loc\"].values\n",
    "coord_plantas = {}\n",
    "capacity = {}\n",
    "demand = {}\n",
    "loc1.set_index('Loc', inplace=True, drop=True)\n",
    "for i in LOCATIONS:\n",
    "    coord_plantas[i] = (loc1['Latitude'][i], loc1['Longitude'][i])\n",
    "    capacity[i] = 30\n",
    "    demand[i] = loc1['Demanda'][i]\n",
    "\n",
    "dist = {}\n",
    "for i in LOCATIONS:\n",
    "    dist_aux = {}\n",
    "    for j in LOCATIONS:\n",
    "        dist_aux[j] = distL2(loc1,i,j)\n",
    "    dist[i] = dist_aux\n"
   ]
  },
  {
   "cell_type": "markdown",
   "metadata": {},
   "source": [
    "# Exercício 1 - Implementação do modelo"
   ]
  },
  {
   "cell_type": "markdown",
   "metadata": {},
   "source": [
    "O modelo será implementado através de uma função \n",
    "\n",
    "    def problem(objective, max_min)\n",
    "    \n",
    "em que:\n",
    "\n",
    "    objective recebe 1 ou 2. \n",
    "    \n",
    "        Caso 1, a função objetivo é soma da distância entre cada planta – cliente\n",
    "        Caso 2, a função objetivo é o número de plantas a serem instaladas\n",
    "        \n",
    "    max_min recebe \"min\" em caso de minimização e \"max\" em caso de maximização"
   ]
  },
  {
   "cell_type": "code",
   "execution_count": 23,
   "metadata": {},
   "outputs": [],
   "source": [
    "def problem(objective, max_min):\n",
    "    y = LpVariable.dicts(\"y\", (LOCATIONS, LOCATIONS), 0, 1, LpBinary)\n",
    "    x = LpVariable.dicts(\"x\", LOCATIONS, 0, 1, LpBinary)\n",
    "\n",
    "    if(max_min == 'max'):\n",
    "        prob = pulp.LpProblem(\"Localização de Facilidades\", pulp.LpMaximize)\n",
    "    else:\n",
    "        prob = pulp.LpProblem(\"Localização de Facilidades\", pulp.LpMinimize)\n",
    "\n",
    "    # Cada cliente só pode ser atendido por uma planta\n",
    "    for j in LOCATIONS:\n",
    "        prob += lpSum([y[i][j] for i in LOCATIONS]) == 1\n",
    "    \n",
    "    # Restrição de capacidade e demanda\n",
    "    for i in LOCATIONS:\n",
    "        prob += lpSum([demand[j] * y[i][j] for j in LOCATIONS]) <= capacity[i] * x[i]\n",
    "\n",
    "    # Restrição dos 85 metros\n",
    "    for i in LOCATIONS:\n",
    "        prob += lpSum([y[i][j] for j in LOCATIONS if dist[i][j] > 85]) == 0\n",
    "\n",
    "    # Função objetivo\n",
    "    if(objective == 1):\n",
    "        prob += lpSum([lpSum([dist[i][j]*y[i][j] for i in LOCATIONS]) for j in LOCATIONS])\n",
    "    if(objective == 2):\n",
    "        prob += lpSum([x[i] for i in LOCATIONS])\n",
    "\n",
    "    prob.solve()\n",
    "\n",
    "    objective1 = 0\n",
    "    for i in LOCATIONS:\n",
    "        for j in LOCATIONS:\n",
    "            objective1 = objective1 + dist[i][j] * y[i][j].varValue\n",
    "    objective2 = 0\n",
    "    for i in LOCATIONS:\n",
    "        objective2 = objective2 + x[i].varValue\n",
    "\n",
    "    return objective1, objective2\n"
   ]
  },
  {
   "cell_type": "code",
   "execution_count": 24,
   "metadata": {},
   "outputs": [
    {
     "name": "stdout",
     "output_type": "stream",
     "text": [
      "(0.0, 100.0)\n",
      "(3777.927664152292, 3.0)\n"
     ]
    }
   ],
   "source": [
    "print(problem(1, 'min'))\n",
    "print(problem(2, 'min'))"
   ]
  },
  {
   "cell_type": "markdown",
   "metadata": {},
   "source": [
    "# Exercício 2 - Soluções Nadir e Utópica"
   ]
  },
  {
   "cell_type": "code",
   "execution_count": null,
   "metadata": {},
   "outputs": [],
   "source": [
    "Solução Utópica - melhor solução para ambos objetivos, porém desconsidera a viabilidade das funções objetivos\n",
    "Solução Nadir - pior solução para ambos objetivos (maximização para problemas de minimização e vice-versa)"
   ]
  },
  {
   "cell_type": "code",
   "execution_count": 27,
   "metadata": {},
   "outputs": [
    {
     "data": {
      "image/png": "[encoded data removed]",
      "text/plain": [
       "<Figure size 432x288 with 1 Axes>"
      ]
     },
     "metadata": {
      "needs_background": "light"
     },
     "output_type": "display_data"
    }
   ],
   "source": [
    "def utopia():\n",
    "    obj11, obj12 = problem(1, 'min')\n",
    "    obj21, obj22 = problem(2, 'min')\n",
    "    return obj11, obj22\n",
    "\n",
    "def nadir():\n",
    "    obj11, obj12 = problem(1, 'max')\n",
    "    obj21, obj22 = problem(2, 'max')\n",
    "    return obj11, obj22\n",
    "\n",
    "x = []\n",
    "y = []\n",
    "a,b = utopia()\n",
    "x.append(a)\n",
    "y.append(b)\n",
    "a,b = nadir()\n",
    "x.append(a)\n",
    "y.append(b)\n",
    "plt.scatter(x, y)\n",
    "plt.xlabel(\"Soma Distancia planta-cliente\")\n",
    "plt.ylabel(\"Número de plantas\")\n",
    "plt.show()"
   ]
  },
  {
   "cell_type": "markdown",
   "metadata": {},
   "source": [
    "# Exercício 3 - Método da soma ponderada"
   ]
  },
  {
   "cell_type": "raw",
   "metadata": {},
   "source": [
    "O método da soma ponderada será implementada através de uma função def wavg(weight)\n",
    "\n",
    "O parâmetro weight recebe números entre 0.0 e 1.0, que representa o peso dado a cada objetivo. Se a entrada for 0.1, por exemplo, 0.1 será o peso de um objetivo e 0.9 do outro."
   ]
  },
  {
   "cell_type": "code",
   "execution_count": 29,
   "metadata": {},
   "outputs": [
    {
     "data": {
      "image/png": "[encoded data removed]",
      "text/plain": [
       "<Figure size 432x288 with 1 Axes>"
      ]
     },
     "metadata": {
      "needs_background": "light"
     },
     "output_type": "display_data"
    }
   ],
   "source": [
    "def wavg(weight):\n",
    "    y = LpVariable.dicts(\"y\", (LOCATIONS, LOCATIONS), 0, 1, LpBinary)\n",
    "    x = LpVariable.dicts(\"x\", LOCATIONS, 0, 1, LpBinary)\n",
    "\n",
    "    prob = pulp.LpProblem(\"Localização de Facilidades\", pulp.LpMinimize)\n",
    "\n",
    "    for j in LOCATIONS:\n",
    "        prob += lpSum([y[i][j] for i in LOCATIONS]) == 1\n",
    "\n",
    "    for i in LOCATIONS:\n",
    "        prob += lpSum([demand[j] * y[i][j] for j in LOCATIONS]) <= capacity[i] * x[i]\n",
    "\n",
    "    for i in LOCATIONS:\n",
    "        prob += lpSum([y[i][j] for j in LOCATIONS if dist[i][j] > 85]) == 0\n",
    "\n",
    "    objective1 = lpSum([lpSum([weight*dist[i][j]*y[i][j] for i in LOCATIONS]) for j in LOCATIONS])\n",
    "    objective2 = lpSum([(1 - weight)*x[i] for i in LOCATIONS])\n",
    "    prob += objective1 + objective2\n",
    "\n",
    "    prob.solve()\n",
    "\n",
    "    objective1 = 0\n",
    "    for i in LOCATIONS:\n",
    "        for j in LOCATIONS:\n",
    "            objective1 = objective1 + dist[i][j] * y[i][j].varValue\n",
    "    objective2 = 0\n",
    "    for i in LOCATIONS:\n",
    "        objective2 = objective2 + x[i].varValue\n",
    "\n",
    "    return objective1, objective2\n",
    "\n",
    "w = [0.0, .1, .2, .3, .4, .5, .6, .7, .8, .9, 1.0]\n",
    "x = []\n",
    "y = []\n",
    "sol_wavg= []\n",
    "for i in w:\n",
    "    a, b = wavg(i)\n",
    "    x.append(a)\n",
    "    y.append(b)\n",
    "    sol_wavg.append((a,b))\n",
    "plt.scatter(x, y)\n",
    "plt.xlabel(\"Soma Distancia planta-cliente\")\n",
    "plt.ylabel(\"Número de plantas\")\n",
    "plt.show()"
   ]
  },
  {
   "cell_type": "markdown",
   "metadata": {},
   "source": [
    "# Exercício 4 - Método 𝝐-restrito"
   ]
  },
  {
   "cell_type": "code",
   "execution_count": null,
   "metadata": {},
   "outputs": [],
   "source": [
    "Esse método será implementado através de uma função \n",
    "\n",
    "    def econstraint(number):\n",
    "\n",
    "Em que number é o valor da restrição aplicada a um dos objetivos.\n",
    "\n",
    "No nosso caso, consideramos soma da distância entre cada planta – cliente como a função objetivo principal e número de plantas a serem instaladas como restrição.\n"
   ]
  },
  {
   "cell_type": "code",
   "execution_count": 30,
   "metadata": {},
   "outputs": [],
   "source": [
    "def econstraint(number):\n",
    "    y = LpVariable.dicts(\"y\", (LOCATIONS, LOCATIONS), 0, 1, LpBinary)\n",
    "    x = LpVariable.dicts(\"x\", LOCATIONS, 0, 1, LpBinary)\n",
    "\n",
    "    prob = pulp.LpProblem(\"Localização de Facilidades\", pulp.LpMinimize)\n",
    "\n",
    "    for j in LOCATIONS:\n",
    "        prob += lpSum([y[i][j] for i in LOCATIONS]) == 1\n",
    "\n",
    "    for i in LOCATIONS:\n",
    "        prob += lpSum([demand[j] * y[i][j] for j in LOCATIONS]) <= capacity[i] * x[i]\n",
    "\n",
    "    for i in LOCATIONS:\n",
    "        prob += lpSum([y[i][j] for j in LOCATIONS if dist[i][j] > 85]) == 0\n",
    "\n",
    "    prob += lpSum([x[i] for i in LOCATIONS]) <= number\n",
    "\n",
    "    prob += lpSum([lpSum([dist[i][j]*y[i][j] for i in LOCATIONS]) for j in LOCATIONS])\n",
    "\n",
    "    prob.solve()\n",
    "\n",
    "    objective1 = 0\n",
    "    for i in LOCATIONS:\n",
    "        for j in LOCATIONS:\n",
    "            objective1 = objective1 + dist[i][j] * y[i][j].varValue\n",
    "    objective2 = 0\n",
    "    for i in LOCATIONS:\n",
    "        objective2 = objective2 + x[i].varValue\n",
    "\n",
    "    return objective1, objective2\n"
   ]
  },
  {
   "cell_type": "raw",
   "metadata": {},
   "source": [
    "Antes de executar o método devemos calcular os pontos extremos da curva pareto ótimo, para sabermos o passo que será dado de forma uniforme na função objetivo"
   ]
  },
  {
   "cell_type": "code",
   "execution_count": 31,
   "metadata": {},
   "outputs": [
    {
     "data": {
      "image/png": "[encoded data removed]",
      "text/plain": [
       "<Figure size 432x288 with 1 Axes>"
      ]
     },
     "metadata": {
      "needs_background": "light"
     },
     "output_type": "display_data"
    }
   ],
   "source": [
    "def p1():\n",
    "    obj11, obj12 = problem(1, 'min')\n",
    "    return obj11, obj12\n",
    "\n",
    "def p2():\n",
    "    obj11, obj12 = problem(2, 'min')\n",
    "    return obj11, obj12\n",
    "\n",
    "a1,b1 = p1()\n",
    "a2,b2 = p2()\n",
    "r = b1 - b2\n",
    "pace = r/10\n",
    "\n",
    "x = []\n",
    "y = []\n",
    "x.append(a1)\n",
    "y.append(b1)\n",
    "x.append(a2)\n",
    "y.append(b2)\n",
    "sol_econs = []\n",
    "\n",
    "for i in range(1, 10):\n",
    "    a, b = econstraint(i*pace)\n",
    "    x.append(a)\n",
    "    y.append(b)\n",
    "    sol_econs.append((a,b))\n",
    "\n",
    "plt.scatter(x, y)\n",
    "plt.xlabel(\"Soma Distancia planta-cliente\")\n",
    "plt.ylabel(\"Número de plantas\")\n",
    "plt.show()\n"
   ]
  },
  {
   "cell_type": "markdown",
   "metadata": {},
   "source": [
    "# Exercício 5 - Spacing Measure"
   ]
  },
  {
   "cell_type": "code",
   "execution_count": 32,
   "metadata": {},
   "outputs": [
    {
     "name": "stdout",
     "output_type": "stream",
     "text": [
      "Weighed Sum Method 1599.4300774716496\n",
      "E-Constrained Method 455.11586083940506\n"
     ]
    }
   ],
   "source": [
    "def euc(p1, p2):\n",
    "    xdiff = p1[0] - p2[0]\n",
    "    ydiff = p1[0] - p2[1]\n",
    "    return math.sqrt(xdiff*xdiff + ydiff*ydiff)\n",
    "\n",
    "def spacing(l):\n",
    "    dist = {}\n",
    "    shortest = {}\n",
    "    sum = 0.0\n",
    "    counter = 0.0\n",
    "    size = len(l)\n",
    "    for i in l:\n",
    "        dist_aux = {}\n",
    "        min = 10000\n",
    "        for j in l:\n",
    "            d = euc(i, j)\n",
    "            if (i != j):\n",
    "                sum = sum + d\n",
    "                counter = counter + 1.0\n",
    "                if (d < min):\n",
    "                    min = d\n",
    "            dist_aux[j] = euc(i, j)\n",
    "        shortest[i] = min\n",
    "        dist[i] = dist_aux\n",
    "    avg = sum / counter\n",
    "    soma = 0\n",
    "    for i in l:\n",
    "        soma = soma + (1 / size) * (avg - shortest[i]) ** 2\n",
    "    return math.sqrt(soma)\n",
    "\n",
    "print(\"Weighed Sum Method\", spacing(sol_wavg))\n",
    "print(\"E-Constrained Method\", spacing(sol_econs))"
   ]
  },
  {
   "cell_type": "code",
   "execution_count": null,
   "metadata": {},
   "outputs": [],
   "source": []
  }
 ],
 "metadata": {
  "kernelspec": {
   "display_name": "Python 3",
   "language": "python",
   "name": "python3"
  },
  "language_info": {
   "codemirror_mode": {
    "name": "ipython",
    "version": 3
   },
   "file_extension": ".py",
   "mimetype": "text/x-python",
   "name": "python",
   "nbconvert_exporter": "python",
   "pygments_lexer": "ipython3",
   "version": "3.7.1"
  }
 },
 "nbformat": 4,
 "nbformat_minor": 2
}
